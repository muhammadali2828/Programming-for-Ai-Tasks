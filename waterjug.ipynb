{
 "cells": [
  {
   "cell_type": "code",
   "execution_count": 1,
   "metadata": {},
   "outputs": [
    {
     "name": "stdout",
     "output_type": "stream",
     "text": [
      "Solution Found\n",
      "(0, 0)\n",
      "(5, 0)\n",
      "(0, 7)\n",
      "(5, 7)\n",
      "(0, 5)\n",
      "(5, 2)\n",
      "(5, 5)\n",
      "(0, 2)\n",
      "(3, 7)\n",
      "(2, 0)\n",
      "(3, 0)\n",
      "(2, 7)\n",
      "(0, 3)\n",
      "(5, 4)\n",
      "(5, 3)\n",
      "(0, 4)\n",
      "(1, 7)\n"
     ]
    },
    {
     "data": {
      "text/plain": [
       "True"
      ]
     },
     "execution_count": 1,
     "metadata": {},
     "output_type": "execute_result"
    }
   ],
   "source": [
    "from collections import deque\n",
    "\n",
    "def WaterJugProblem(c1, c2, goal):\n",
    "    queue = deque()\n",
    "    visited = set()\n",
    "    actions = []\n",
    "\n",
    "    queue.append((0, 0))  \n",
    "    visited.add((0, 0))\n",
    "\n",
    "    while queue:\n",
    "        jug1, jug2 = queue.popleft()\n",
    "        actions.append((jug1, jug2))\n",
    "\n",
    "        if jug1 == goal or jug2 == goal:\n",
    "            print(\"Solution Found\")\n",
    "            for state in actions:\n",
    "                print(state)\n",
    "            return True\n",
    "\n",
    "        rules = [\n",
    "            (c1, jug2), \n",
    "            (jug1, c2),  \n",
    "            (0, jug2),   \n",
    "            (jug1, 0),   \n",
    "            (jug1 - min(jug1, c2 - jug2), jug2 + min(jug1, c2 - jug2)),  \n",
    "            (jug1 + min(jug2, c1 - jug1), jug2 - min(jug2, c1 - jug1))   \n",
    "        ]\n",
    "\n",
    "        for rule in rules:\n",
    "            if rule not in visited:\n",
    "                queue.append(rule)\n",
    "                visited.add(rule)\n",
    "\n",
    "    print(\"No solution found\")\n",
    "    return False\n",
    "\n",
    "jug1Capacity = int(input(\"Enter jug1 capacity: \"))\n",
    "jug2Capacity = int(input(\"Enter jug1 capacity: \"))\n",
    "goal = int(input(\"Enter rthe goal state you want to achieve:  \"))\n",
    "\n",
    "WaterJugProblem(jug1Capacity, jug2Capacity, goal)\n"
   ]
  }
 ],
 "metadata": {
  "kernelspec": {
   "display_name": "Python 3",
   "language": "python",
   "name": "python3"
  },
  "language_info": {
   "name": "python",
   "version": "3.13.2"
  }
 },
 "nbformat": 4,
 "nbformat_minor": 2
}
